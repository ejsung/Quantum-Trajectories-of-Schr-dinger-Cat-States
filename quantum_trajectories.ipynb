{
 "cells": [
  {
   "cell_type": "markdown",
   "metadata": {},
   "source": [
    "# Import Packages"
   ]
  },
  {
   "cell_type": "code",
   "execution_count": null,
   "metadata": {},
   "outputs": [],
   "source": [
    "# import pandas as pd\n",
    "import numpy as np\n",
    "import matplotlib.pyplot as plt\n",
    "# import scipy as scp\n",
    "# import numdifftools as nd\n",
    "import matplotlib.pyplot as plt\n",
    "# from scipy.constants import hbar, m_n, e, c, g\n",
    "# import scipy.integrate as integrate\n",
    "# import scipy.optimize as opt\n",
    "# from scipy.interpolate import UnivariateSpline\n",
    "# import cvxpy as cp\n",
    "# import itertools\n",
    "from tqdm import tqdm\n",
    "from tqdm.auto import tqdm as auto_tqdm\n",
    "# import cython\n",
    "\n",
    "# from qutip import *\n",
    "# from qutip.ui import *\n",
    "from qutip import Qobj, mesolve, fock_dm, QobjEvo\n",
    "from qutip.ui import TextProgressBar, BaseProgressBar\n",
    "# import qutip.parallel as qtp_pllel\n",
    "\n",
    "# from numba import njit, jit\n",
    "# import contextlib\n",
    "# from contextlib import contextmanager\n",
    "# import joblib\n",
    "# from joblib import Parallel, delayed\n",
    "# import multiprocessing as mp\n",
    "\n",
    "\n",
    "\n",
    "# %matplotlib inline\n",
    "# %matplotlib notebook"
   ]
  },
  {
   "cell_type": "code",
   "execution_count": null,
   "metadata": {},
   "outputs": [],
   "source": []
  },
  {
   "cell_type": "markdown",
   "metadata": {},
   "source": [
    "# Open Quantum Systems"
   ]
  },
  {
   "cell_type": "markdown",
   "metadata": {},
   "source": [
    "## Optical Cavity"
   ]
  },
  {
   "cell_type": "code",
   "execution_count": null,
   "metadata": {},
   "outputs": [],
   "source": []
  },
  {
   "cell_type": "code",
   "execution_count": null,
   "metadata": {},
   "outputs": [],
   "source": []
  },
  {
   "cell_type": "markdown",
   "metadata": {},
   "source": [
    "# Quantum Trajectories"
   ]
  },
  {
   "cell_type": "markdown",
   "metadata": {},
   "source": [
    "## Schrödinger Cat States"
   ]
  },
  {
   "cell_type": "code",
   "execution_count": null,
   "metadata": {},
   "outputs": [],
   "source": []
  },
  {
   "cell_type": "code",
   "execution_count": null,
   "metadata": {},
   "outputs": [],
   "source": []
  },
  {
   "cell_type": "markdown",
   "metadata": {},
   "source": [
    "## Decoherence"
   ]
  },
  {
   "cell_type": "code",
   "execution_count": null,
   "metadata": {},
   "outputs": [],
   "source": []
  },
  {
   "cell_type": "markdown",
   "metadata": {},
   "source": []
  }
 ],
 "metadata": {
  "kernelspec": {
   "display_name": "open_quantum_systems_env",
   "language": "python",
   "name": "open_quantum_systems_env"
  },
  "language_info": {
   "name": "python",
   "version": "3.12.4"
  }
 },
 "nbformat": 4,
 "nbformat_minor": 2
}
